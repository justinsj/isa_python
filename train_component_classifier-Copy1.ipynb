{
 "cells": [
  {
   "cell_type": "markdown",
   "metadata": {},
   "source": [
    "# Training Component Classifier\n",
    "A quick notebook which utilizes the ComponentClassifierTraining class to train classifier for structucal components.\n",
    "\n",
    "Current model is adopted from sketched-a-net paper [1]&nbsp;:\n",
    "- Achieved 98% in classifying 63 classes with 50 epochs and zero dropout\n",
    "- 1 epoch takes around 15 seconds on Nvidia GeForce GTX 1060\n",
    "\n",
    "[1]: https://arxiv.org/pdf/1501.07873.pdf"
   ]
  },
  {
   "cell_type": "code",
   "execution_count": 1,
   "metadata": {},
   "outputs": [
    {
     "name": "stderr",
     "output_type": "stream",
     "text": [
      "Using TensorFlow backend.\n"
     ]
    }
   ],
   "source": [
    "import numpy as np\n",
    "import matplotlib.pyplot as plt\n",
    "\n",
    "from component_classifier_training import ComponentClassifierTraining\n",
    "\n",
    "%matplotlib inline\n",
    "plt.rcParams['figure.figsize'] = (10.0, 8.0) # set default size of plots\n",
    "plt.rcParams['image.interpolation'] = 'nearest'\n",
    "plt.rcParams['image.cmap'] = 'gray'\n",
    "\n",
    "# for auto-reloading external modules\n",
    "# see http://stackoverflow.com/questions/1907993/autoreload-of-modules-in-ipython\n",
    "%load_ext autoreload\n",
    "%autoreload 2"
   ]
  },
  {
   "cell_type": "code",
   "execution_count": 2,
   "metadata": {
    "collapsed": true
   },
   "outputs": [],
   "source": [
    "def load_mock_data():\n",
    "    x = np.load('/Users/Ignavier/Desktop/binarized_component_3D_matrix.npy')  # try to conver into 100 * 100\n",
    "    x = x.reshape(12500, -1)\n",
    "    x = x[:, 0:10001]\n",
    "    training_data = x[0:10, :]\n",
    "    val_data = x[10:20:, :]\n",
    "    test_data = x[20:30:, :]\n",
    "\n",
    "    training_data[0:3, -1] = 0  # Modify to get 3 categories\n",
    "    training_data[3:6, -1] = 1\n",
    "    training_data[6:, -1] = 2\n",
    "\n",
    "    return training_data, val_data, test_data\n",
    "\n",
    "training_data, val_data, test_data = load_mock_data()"
   ]
  },
  {
   "cell_type": "code",
   "execution_count": 3,
   "metadata": {
    "scrolled": true
   },
   "outputs": [
    {
     "name": "stdout",
     "output_type": "stream",
     "text": [
      "Train on 10 samples, validate on 10 samples\n",
      "Epoch 1/8\n",
      "10/10 [==============================] - 1s - loss: 1.0875 - acc: 0.4000 - val_loss: 1.6165 - val_acc: 0.0000e+00\n",
      "Epoch 2/8\n",
      "10/10 [==============================] - 0s - loss: 1.4090 - acc: 0.3000 - val_loss: 0.8663 - val_acc: 1.0000\n",
      "Epoch 3/8\n",
      "10/10 [==============================] - 0s - loss: 1.1133 - acc: 0.4000 - val_loss: 0.9655 - val_acc: 1.0000\n",
      "Epoch 4/8\n",
      "10/10 [==============================] - 0s - loss: 1.2535 - acc: 0.1000 - val_loss: 1.1396 - val_acc: 0.0000e+00\n",
      "Epoch 5/8\n",
      "10/10 [==============================] - 0s - loss: 0.9991 - acc: 0.6000 - val_loss: 1.2204 - val_acc: 0.0000e+00\n",
      "Epoch 6/8\n",
      "10/10 [==============================] - 0s - loss: 1.1029 - acc: 0.4000 - val_loss: 1.2690 - val_acc: 0.0000e+00\n",
      "Epoch 7/8\n",
      "10/10 [==============================] - 0s - loss: 1.1308 - acc: 0.5000 - val_loss: 1.2727 - val_acc: 0.0000e+00\n",
      "Epoch 8/8\n",
      "10/10 [==============================] - 0s - loss: 1.2028 - acc: 0.2000 - val_loss: 1.1992 - val_acc: 0.0000e+00\n",
      "Train on 10 samples, validate on 10 samples\n",
      "Epoch 1/8\n",
      "10/10 [==============================] - 1s - loss: 1.1139 - acc: 0.3000 - val_loss: 0.9766 - val_acc: 0.2000\n",
      "Epoch 2/8\n",
      "10/10 [==============================] - 0s - loss: 3.5027 - acc: 0.3000 - val_loss: 1.7961 - val_acc: 0.0000e+00\n",
      "Epoch 3/8\n",
      "10/10 [==============================] - 0s - loss: 1.5592 - acc: 0.4000 - val_loss: 1.0885 - val_acc: 0.0000e+00\n",
      "Epoch 4/8\n",
      "10/10 [==============================] - 0s - loss: 1.0090 - acc: 0.5000 - val_loss: 1.1015 - val_acc: 0.0000e+00\n",
      "Epoch 5/8\n",
      "10/10 [==============================] - 0s - loss: 1.1126 - acc: 0.4000 - val_loss: 1.1016 - val_acc: 0.0000e+00\n",
      "Epoch 6/8\n",
      "10/10 [==============================] - 0s - loss: 1.1592 - acc: 0.3000 - val_loss: 1.1303 - val_acc: 0.0000e+00\n",
      "Epoch 7/8\n",
      "10/10 [==============================] - 0s - loss: 1.1427 - acc: 0.3000 - val_loss: 1.1288 - val_acc: 0.0000e+00\n",
      "Epoch 8/8\n",
      "10/10 [==============================] - 0s - loss: 1.0986 - acc: 0.2000 - val_loss: 1.1248 - val_acc: 0.0000e+00\n",
      "Train on 10 samples, validate on 10 samples\n",
      "Epoch 1/8\n",
      "10/10 [==============================] - 1s - loss: 1.1139 - acc: 0.3000 - val_loss: 1.0084 - val_acc: 0.1000\n",
      "Epoch 2/8\n",
      "10/10 [==============================] - 0s - loss: 2.4823 - acc: 0.2000 - val_loss: 1.4167 - val_acc: 0.0000e+00\n",
      "Epoch 3/8\n",
      "10/10 [==============================] - 0s - loss: 1.1424 - acc: 0.5000 - val_loss: 1.1714 - val_acc: 0.0000e+00\n",
      "Epoch 4/8\n",
      "10/10 [==============================] - 0s - loss: 1.0345 - acc: 0.4000 - val_loss: 1.2068 - val_acc: 0.0000e+00\n",
      "Epoch 5/8\n",
      "10/10 [==============================] - 0s - loss: 1.1915 - acc: 0.3000 - val_loss: 1.1794 - val_acc: 0.0000e+00\n",
      "Epoch 6/8\n",
      "10/10 [==============================] - 0s - loss: 1.0912 - acc: 0.3000 - val_loss: 1.1607 - val_acc: 0.0000e+00\n",
      "Epoch 7/8\n",
      "10/10 [==============================] - 0s - loss: 1.1284 - acc: 0.4000 - val_loss: 1.1366 - val_acc: 0.0000e+00\n",
      "Epoch 8/8\n",
      "10/10 [==============================] - 0s - loss: 1.1110 - acc: 0.2000 - val_loss: 1.1236 - val_acc: 0.0000e+00\n",
      "do 0.000000e+00 train accuracy: 0.200000 val accuracy: 0.000000\n",
      "do 1.000000e-01 train accuracy: 0.200000 val accuracy: 0.000000\n",
      "do 2.000000e-01 train accuracy: 0.200000 val accuracy: 0.000000\n",
      "\n",
      "Best validation accuracy achieved during cross-validation: 0.000000\n"
     ]
    }
   ],
   "source": [
    "# Grid search for the best hyperparameters\n",
    "\n",
    "# Initialization\n",
    "best_component_classifier = None\n",
    "best_val_accuracy = -1\n",
    "results = {}  # Used to stored values in each iteration\n",
    "\n",
    "# Hyperparameters\n",
    "dropout_ls = [0, 0.1, 0.2]\n",
    "epochs = 8\n",
    "\n",
    "for dropout in dropout_ls:\n",
    "    # Create object for training components classifier\n",
    "    component_classifier = ComponentClassifierTraining(training_data, val_data, test_data, dropout=0.1)\n",
    "    component_classifier.train(epochs=epochs, verbose=1)\n",
    "    \n",
    "    # Get the training accuracy\n",
    "    _, train_accuracy = component_classifier.get_train_stats()\n",
    "\n",
    "    # Get the validation accuracy\n",
    "    _, val_accuracy = component_classifier.get_validation_stats()\n",
    "\n",
    "    results[dropout] = (train_accuracy, val_accuracy)\n",
    "\n",
    "    if best_val_accuracy < val_accuracy:\n",
    "        # Get the best classifier\n",
    "        best_val_accuracy = val_accuracy\n",
    "        best_component_classifier = component_classifier\n",
    "\n",
    "# Print out results\n",
    "for dropout in sorted(results):\n",
    "    train_accuracy, val_accuracy = results[(dropout)]\n",
    "    print('do %e train accuracy: %f val accuracy: %f' % (dropout, train_accuracy, val_accuracy))\n",
    "\n",
    "print('\\nBest validation accuracy achieved during cross-validation: %f' % best_val_accuracy)"
   ]
  },
  {
   "cell_type": "code",
   "execution_count": 4,
   "metadata": {
    "scrolled": true
   },
   "outputs": [
    {
     "name": "stdout",
     "output_type": "stream",
     "text": [
      "train_loss: 1.2027900219\n",
      "train_accuracy: 0.20000000298\n",
      "validation_loss: 1.19919979572\n",
      "validation_accuracy: 0.0\n",
      "test_loss: 1.19919979572\n",
      "test_accuracy: 0.0\n"
     ]
    }
   ],
   "source": [
    "# Get statistics for the best model\n",
    "stats = best_component_classifier.get_stats()  # Return a dict\n",
    "for key, value in stats.items():\n",
    "    print(key + ': ' + str(value))"
   ]
  },
  {
   "cell_type": "code",
   "execution_count": 5,
   "metadata": {},
   "outputs": [
    {
     "data": {
      "image/png": "[encoded data removed]",
      "text/plain": [
       "<matplotlib.figure.Figure at 0x105e3f190>"
      ]
     },
     "metadata": {},
     "output_type": "display_data"
    },
    {
     "data": {
      "image/png": "[encoded data removed]",
      "text/plain": [
       "<matplotlib.figure.Figure at 0x16878f510>"
      ]
     },
     "metadata": {},
     "output_type": "display_data"
    }
   ],
   "source": [
    "# Plot the train/validation loss and accuracies for the best model\n",
    "best_component_classifier.plot_learning_curve()"
   ]
  },
  {
   "cell_type": "code",
   "execution_count": 6,
   "metadata": {},
   "outputs": [
    {
     "name": "stdout",
     "output_type": "stream",
     "text": [
      "_________________________________________________________________\n",
      "Layer (type)                 Output Shape              Param #   \n",
      "=================================================================\n",
      "conv2d_1 (Conv2D)            (None, 29, 29, 64)        14464     \n",
      "_________________________________________________________________\n",
      "max_pooling2d_1 (MaxPooling2 (None, 27, 27, 64)        0         \n",
      "_________________________________________________________________\n",
      "dropout_1 (Dropout)          (None, 27, 27, 64)        0         \n",
      "_________________________________________________________________\n",
      "conv2d_2 (Conv2D)            (None, 23, 23, 128)       204928    \n",
      "_________________________________________________________________\n",
      "max_pooling2d_2 (MaxPooling2 (None, 11, 11, 128)       0         \n",
      "_________________________________________________________________\n",
      "dropout_2 (Dropout)          (None, 11, 11, 128)       0         \n",
      "_________________________________________________________________\n",
      "conv2d_3 (Conv2D)            (None, 11, 11, 256)       295168    \n",
      "_________________________________________________________________\n",
      "dropout_3 (Dropout)          (None, 11, 11, 256)       0         \n",
      "_________________________________________________________________\n",
      "conv2d_4 (Conv2D)            (None, 11, 11, 256)       590080    \n",
      "_________________________________________________________________\n",
      "dropout_4 (Dropout)          (None, 11, 11, 256)       0         \n",
      "_________________________________________________________________\n",
      "conv2d_5 (Conv2D)            (None, 11, 11, 256)       590080    \n",
      "_________________________________________________________________\n",
      "max_pooling2d_3 (MaxPooling2 (None, 5, 5, 256)         0         \n",
      "_________________________________________________________________\n",
      "dropout_5 (Dropout)          (None, 5, 5, 256)         0         \n",
      "_________________________________________________________________\n",
      "conv2d_6 (Conv2D)            (None, 1, 1, 512)         3277312   \n",
      "_________________________________________________________________\n",
      "dropout_6 (Dropout)          (None, 1, 1, 512)         0         \n",
      "_________________________________________________________________\n",
      "conv2d_7 (Conv2D)            (None, 1, 1, 512)         262656    \n",
      "_________________________________________________________________\n",
      "dropout_7 (Dropout)          (None, 1, 1, 512)         0         \n",
      "_________________________________________________________________\n",
      "flatten_1 (Flatten)          (None, 512)               0         \n",
      "_________________________________________________________________\n",
      "dense_1 (Dense)              (None, 3)                 1539      \n",
      "=================================================================\n",
      "Total params: 5,236,227\n",
      "Trainable params: 5,236,227\n",
      "Non-trainable params: 0\n",
      "_________________________________________________________________\n"
     ]
    }
   ],
   "source": [
    "# Print the summary for the best model\n",
    "best_component_classifier.print_model_summary()"
   ]
  },
  {
   "cell_type": "code",
   "execution_count": null,
   "metadata": {
    "collapsed": true
   },
   "outputs": [],
   "source": [
    "# Save the best model\n",
    "# the name should end with .h5\n",
    "best_component_classifier.save('model_name.h5')"
   ]
  }
 ],
 "metadata": {
  "kernelspec": {
   "display_name": "Python [conda env:image_based_structural_analysis]",
   "language": "python",
   "name": "conda-env-image_based_structural_analysis-py"
  },
  "language_info": {
   "codemirror_mode": {
    "name": "ipython",
    "version": 2
   },
   "file_extension": ".py",
   "mimetype": "text/x-python",
   "name": "python",
   "nbconvert_exporter": "python",
   "pygments_lexer": "ipython2",
   "version": "2.7.13"
  }
 },
 "nbformat": 4,
 "nbformat_minor": 2
}
