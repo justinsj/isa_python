{
 "cells": [
  {
   "cell_type": "markdown",
   "metadata": {},
   "source": [
    "# Image-Based Structural Analysis\n",
    "### Code created and maintained by Justin David Q. SAN JUAN, <br>email: jdqsj1997@yahoo.com, <br> personal website: justinsj.weebly.com\n",
    "\n",
    "#### This code focuses in the segmentation and classification processes (except reconstruction) of the complete project pipeline as described below:\n",
    "<img src=\"https://justinsj.weebly.com/uploads/6/4/9/2/64923303/process-flowchart_orig.jpg\" alt=\"Drawing\" style=\"width: 800px;\"/>"
   ]
  },
  {
   "cell_type": "markdown",
   "metadata": {},
   "source": [
    "# Import Dependencies\n",
    "#### Dependencies:\n",
    "numpy: for handling data types (mostly handled as numpy arrays)<br>\n",
    "Sequential (from keras.models): for CNN setup<br>\n",
    "random: for pseudo-random shuffling of data<br>\n",
    "cv2: for raw RBG image import and transformation to grayscale<br>\n",
    "time: for measuring time elapsed per function<br>\n",
    "##### Custom Classes:\n",
    "ComponentSegmentation: for proposing regions of interest (RoI's)<br>\n",
    "ExtractionPreprocessing: for trimming, noise removal, and resizing of image<br>\n",
    "ComponentClassifierTraining: for loading the CNN model, training data, and training the model<br>\n",
    "ComponentClassifierPredict: for using the CNN model to predict the class of preprocessed extractions<br>\n",
    "ExtractionLabelling: for labelling ground truth bounding boxes and classes in problem images<br>\n",
    "TestingClass: for testing the accuracy of a CNN model on the problem images<br>\n",
    "<br>\n",
    "print_image_bw is used to print a simple 2-D array<br>\n",
    "gc: for clearing up space after acquiring data from larger datasets"
   ]
  },
  {
   "cell_type": "code",
   "execution_count": 1,
   "metadata": {},
   "outputs": [
    {
     "name": "stderr",
     "output_type": "stream",
     "text": [
      "c:\\users\\jdqsj\\appdata\\local\\programs\\python\\python36\\lib\\site-packages\\h5py\\__init__.py:36: FutureWarning: Conversion of the second argument of issubdtype from `float` to `np.floating` is deprecated. In future, it will be treated as `np.float64 == np.dtype(float).type`.\n",
      "  from ._conv import register_converters as _register_converters\n",
      "Using TensorFlow backend.\n"
     ]
    },
    {
     "name": "stdout",
     "output_type": "stream",
     "text": [
      "Done Importing...\n"
     ]
    }
   ],
   "source": [
    "%load_ext autoreload\n",
    "%autoreload 2\n",
    "%load_ext memory_profiler\n",
    "\n",
    "from __future__ import print_function\n",
    "import numpy as np\n",
    "\n",
    "from keras.models import Sequential\n",
    "\n",
    "import random\n",
    "\n",
    "import cv2\n",
    "import time\n",
    "\n",
    "from component_segmentation import ComponentSegmentation\n",
    "from extraction_preprocessing import ExtractionPreprocessing\n",
    "from component_classifier_training import ComponentClassifierTraining\n",
    "\n",
    "from image_preprocessing import ImagePreprocessing\n",
    "from extraction_labelling import ExtractionLabelling\n",
    "from testing_class import TestingClass\n",
    "from helper_functions import print_image_bw\n",
    "\n",
    "from helper_functions import print_time_string, store_time\n",
    "\n",
    "import gc\n",
    "gc.enable()\n",
    "\n",
    "print('Done Importing...')"
   ]
  },
  {
   "cell_type": "markdown",
   "metadata": {},
   "source": [
    "# Hyper-parameters\n",
    "#### Selective Search Parameters:\n",
    "scale_input<br>\n",
    "sigma_input<br>\n",
    "min_size_input<br>\n",
    "#### Noise Reduction Parameters:\n",
    "min_shape: for minimum number of black pixels in bounding box<br>\n",
    "min_height: for minimum height of bounding box<br>\n",
    "min_width: for minimum width of bounding box<br>\n",
    "<br>\n",
    "buffer_zone: for expanding bounding box all directions<br>\n",
    "min_area: for minimum area of bounding box<br>\n",
    "min_black: for minimum number of black pixels in bounding box<br>\n",
    "min_black_ratio: for minimum ratio of black pixels to the bounding box area<br>\n",
    "#### Overlap Parameters:\n",
    "overlap_repeats: for number of iterations for merging algorithm to be applied<br>\n",
    "overlap_threshold: threshold of area overlap over union area for merging to be applied<br>\n",
    "#### Removing Unconnected Pieces Parameters:\n",
    "max_piece_percent: maximum percentage of piece to be removed<br>\n",
    "(if percentage is larger, piece will not be removed as it is more likely an important piece)<br>\n",
    "#### Extractions Preprocessing Parameters:\n",
    "img_rows, img_cols: for classifier input shape<br>\n",
    "wanted_w, wanted_h: for black pixels edges resizing boundary shape<br>\n",
    "export_w, export_h: for overall image resizing shape ([export_w-wanted_w]/2 = horizontal buffer on each side)<br>\n",
    "#### CNN Training Parameters:\n",
    "num_classes: number of classes for classifier to predict<br>\n",
    "TRAINING_RATIO_TRAIN: ratio of training samples to total number of samples<br>\n",
    "TRAINING_RATIO_VAL: ratio of validation samples to total number of samples<br>\n",
    "TRAINING_RATIO_TEST: ratio of test samples to total number of samples <br>\n",
    "Note: TRAINING_RATIO_TEST is implicitly calculated as [1-{TRAINING_RATIO_TRAIN + TRAINING_RATIO_VAL}]<br>\n",
    "dropout: dropout value to be used in all layers except last layer of Sketch-A-Net CNN model<br>\n",
    "#### CNN Prediction Parameters:\n",
    "min_percent_match: minimum probability of class prediction for that class to be set as the prediction<br>\n",
    "min_confidence: minimum difference between first-highest % match and second-highest % match<br>\n",
    "(higher difference means less ambiguity between first and second highest match, which means less likelihood of random object)<br>\n",
    "##### The directory is also defined in the PATH variable.<br>The name of the CNN model data is defined in the name variable.<br>The training data set name for the CNN is defined in the data_set_name variable."
   ]
  },
  {
   "cell_type": "code",
   "execution_count": 2,
   "metadata": {},
   "outputs": [
    {
     "name": "stdout",
     "output_type": "stream",
     "text": [
      "Done setting hyperparamters...\n",
      "peak memory: 205.06 MiB, increment: 0.04 MiB\n"
     ]
    }
   ],
   "source": [
    "#selective search parameters\n",
    "scale_input=200 #200 previous: #10\n",
    "sigma_input=10 #10 previous: #15\n",
    "min_size_input=10 #10 previous: #5\n",
    "\n",
    "#noise reduction parameters\n",
    "min_shape=40 #min. number of black pixels  \n",
    "min_height=5 #min. height of bounding box\n",
    "min_width=5 #min. width of bounding box\n",
    "\n",
    "buffer_zone=2 #expand bounding box by this amount in all directions  \n",
    "min_area=60 #min. area of bounding box\n",
    "min_black=200 #min. number of black pixels\n",
    "min_black_ratio=0.01 #min ratio of black pixels to the bounding box area\n",
    "\n",
    "#Overlap parameters\n",
    "overlap_repeats = 2 #set to 8\n",
    "overlap_threshold = 0.3 #set to 0.3 (overlap has to be larger than the threshold)\n",
    "\n",
    "#Removing unconnected pieces parameters\n",
    "max_piece_percent=0.3  # set to 0.3\n",
    "\n",
    "#Extractions preprocessing paramaters\n",
    "img_rows, img_cols = 100,100\n",
    "wanted_w, wanted_h, export_w, export_h = img_cols, img_rows, img_cols, img_rows\n",
    "\n",
    "#CNN training parameters\n",
    "num_classes = 64\n",
    "TRAINING_RATIO_TRAIN = 0.7\n",
    "TRAINING_RATIO_VAL = 0.15\n",
    "dropout = 0\n",
    "\n",
    "#CNN prediction parameters\n",
    "min_percent_match = 0.7 # set to 0.7\n",
    "min_confidence = 0.3 # set to 0.3\n",
    "\n",
    "#Time Cost parameters\n",
    "time_cost_string_list = ['Loading image','Component Segmentation','Extraction Preprocessing',\n",
    "                         'Component Classifier Training','Component Classifier Predict',\n",
    "                        'Printing Results','Acquiring and Printing Ground Truth Data',\n",
    "                        'Data Concatenation & Cleaning','Data Control, Counting, & Training from Multiple Files',\n",
    "                        'Testing','Printing Confusion Matrix']\n",
    "time_cost_time_list = np.zeros(len(time_cost_string_list)).astype(np.int).tolist()\n",
    "\n",
    "#Paths and names\n",
    "PATH = 'C:/Users/jdqsj/Desktop/Workspace/isa-python/' #must have \"/\" at the end\n",
    "\n",
    "model_name = 'Sketch-A-Net_controlled_600_30858_7_layers'\n",
    "\n",
    "base_dataset_name = 'Training_Samples_64_classes_100x100_all'\n",
    "\n",
    "dataset_PATH = 'C:/Users/jdqsj/Desktop/Workspace/isa-python/'\n",
    "dataset_name = 'Training_Samples_64_classes_100x100_all_cleaned_32898'\n",
    "new_dataset_name = 'Training_Samples_64_classes_100x100_all_cleaned_32898'\n",
    "\n",
    "print('Done setting hyperparamters...')\n",
    "%memit"
   ]
  },
  {
   "cell_type": "markdown",
   "metadata": {},
   "source": [
    "# Load Image\n",
    "Image (binary, grayscale, 2D, numpy array) for regions of interest proposals is loaded."
   ]
  },
  {
   "cell_type": "code",
   "execution_count": 3,
   "metadata": {
    "scrolled": true
   },
   "outputs": [
    {
     "data": {
      "image/png": "[encoded data removed]",
      "text/plain": [
       "<matplotlib.figure.Figure at 0x28876fffcf8>"
      ]
     },
     "metadata": {},
     "output_type": "display_data"
    },
    {
     "data": {
      "image/png": "[encoded data removed]",
      "text/plain": [
       "<matplotlib.figure.Figure at 0x2885c032f28>"
      ]
     },
     "metadata": {},
     "output_type": "display_data"
    },
    {
     "name": "stdout",
     "output_type": "stream",
     "text": [
      "Loading image done... Time Elapsed : 0.7729694843292236 seconds...\n",
      "peak memory: 227.01 MiB, increment: 0.00 MiB\n"
     ]
    }
   ],
   "source": [
    "start = time.time() # Begin time measurement\n",
    "image_name = 'Q0044V0004S7.JPG'\n",
    "test_path = 'C:/Users/jdqsj/Desktop/Workspace/isa-python/test_images/'\n",
    "#image_index = 1\n",
    "ImgLoader = ImagePreprocessing()\n",
    "image = ImgLoader.load_image(test_path+image_name, 1.4)\n",
    "gc.collect() #clear unreferenced data\n",
    "\n",
    "l,w = 15,15 #dimension scales of print\n",
    "print_image_bw(image,l,w)\n",
    "      \n",
    "end = time.time()#record time\n",
    "time_cost_time_list = store_time(0,time_cost_time_list,end-start)\n",
    "print_time_string(0,time_cost_string_list,time_cost_time_list)\n",
    "%memit"
   ]
  },
  {
   "cell_type": "markdown",
   "metadata": {},
   "source": [
    "# Component Segmentation\n",
    "##### Using the ComponentSegmentation class:\n",
    "    1. Selective Search is applied to the image (to generate bounding boxes)\n",
    "    2. A merging algorithm is applied to the selective search bounding boxes (to merge highly overlapping bounding boxes)\n",
    "##### The ComponentSegmentation uses the following data for initialization:\n",
    "    - image: binary (grayscale) 2-D array for region proposal\n",
    "    - name: for unique prints saving\n",
    "    - min_shape, min_height, min_width, buffer_zone, min_area, min_black, min_black_ratio: for noise reduction\n",
    "    - overlap_repeats, overlap_threshold: for merging algorithm\n",
    "##### Then, the RoI proposal is done using the custom search method, which uses the selective search hyper-parameters:\n",
    "    - scale_input\n",
    "    - sigma_input\n",
    "    - min_size_input\n",
    "##### Then, the merging algorithm is applied within the search function, and a merged_set is retrieved."
   ]
  },
  {
   "cell_type": "code",
   "execution_count": null,
   "metadata": {},
   "outputs": [],
   "source": [
    "start = time.time() # Begin time measurement\n",
    "#\"\"\"\n",
    "#Create object ComponentSegmentation, which will use the search function to perform segmentation and merging.\n",
    "segmentation_obj = ComponentSegmentation(image, model_name, min_shape, min_height, min_width, buffer_zone, min_area, min_black, min_black_ratio, overlap_repeats, overlap_threshold)\n",
    "segmentation_obj.search(scale_input, sigma_input, min_size_input) # run search (segmentation code)\n",
    "merged_set = segmentation_obj.merged_set\n",
    "#modify merged_set\n",
    "print(merged_set)\n",
    "#merged_set = [(627, 1119, 67, 74), (1089, 600, 100, 202), (1954, 270, 15, 76), (241, 563, 1779, 48), (238, 1035, 903, 91), (1986, 273, 34, 69), (1089, 779, 23, 23), (238, 1035, 1790, 91), (228, 472, 873, 255), (1978, 472, 42, 71), (228, 472, 21, 255), (238, 1035, 1755, 91), (1989, 1035, 39, 91), (649, 1113, 35, 13), (241, 563, 1779, 164), (1123, 1035, 905, 91), (241, 572, 1779, 39), (259, 1066, 1741, 60), (1100, 589, 920, 138), (238, 1035, 1762, 91), (1153, 592, 867, 13), (228, 472, 1792, 255), (1985, 382, 51, 154), (191, 472, 44, 255), (241, 572, 1779, 38), (1577, 1124, 47, 56)]\n",
    "do_delete = False\n",
    "if do_delete:\n",
    "    to_delete = [19,17,11,9,7]\n",
    "    for i in to_delete:\n",
    "        del merged_set[i]\n",
    "\n",
    "segmentation_obj.plot_bounding_boxes(merged_set)\n",
    "#\"\"\"\n",
    "#### Assuming perfect segmentation\n",
    "\"\"\"\n",
    "labelling_obj = ExtractionLabelling([],[],[], [], \n",
    "                          num_classes, img_rows, img_cols)\n",
    "merged_set = labelling_obj.load_bounding_boxes(dataset_PATH,\"all_\"+str(image_index))\n",
    "\"\"\"\n",
    "####\n",
    "segmentation_obj = None\n",
    "gc.collect()\n",
    "\n",
    "end = time.time()#record time\n",
    "time_cost_time_list = store_time(1,time_cost_time_list,end-start)\n",
    "print_time_string(1,time_cost_string_list,time_cost_time_list)\n",
    "%memit"
   ]
  },
  {
   "cell_type": "markdown",
   "metadata": {},
   "source": [
    "# ExtractionPreprocessing\n",
    "#### Merged set from ComponentSegmentation is passed to ExtractionPreprocessing and the following is applied:\n",
    "    1. Trim: extra space around the farthest black pixels are removed\n",
    "    2. Remove Unconnected Parts: extra pixels (from other components) captured by the bounding box are removed\n",
    "    3. Trim: trimming again as empty spaces may be released\n",
    "    4. Resize: extraction is resized to the prescribed 100x100 dimension using max pooling for downsampling to preserve data\n",
    "ext_images_list = extraction images: list of 100x100 binary (grayscale) 2-D arrays<br>\n",
    "ext_data_list = extraction data: list of x, y, w, h data of extractions bounding boxes<br> \n",
    "where:<br>\n",
    "    - x, y: top-left corner coordinates of bounding box\n",
    "    - w, h: width and height of bounding box respectively\n",
    "#### The preprocess_extractions function is called and the extraction images and extraction data are acquired.\n",
    "#### The plot_bounding_boxes_with_names function is then used to display the bounding boxes on the original image."
   ]
  },
  {
   "cell_type": "code",
   "execution_count": null,
   "metadata": {
    "scrolled": true
   },
   "outputs": [],
   "source": [
    "start = time.time() # Begin time measurement\n",
    "\n",
    "#Transport data into ExtractionPreprocessing class, which will trim, remove unconnected parts, then trim, and resize\n",
    "extraction_obj = ExtractionPreprocessing(image, model_name, merged_set)\n",
    "\n",
    "# Get 4 lists from preprocess_extractions function\n",
    "ext_images_list, ext_data_list = extraction_obj.preprocess_extractions(wanted_w, wanted_h, export_w, export_h, max_piece_percent)\n",
    "\"\"\"\n",
    "extraction_obj.plot_bounding_boxes_with_names()\n",
    "\"\"\"\n",
    "extraction_obj = None\n",
    "gc.collect()\n",
    "\n",
    "end = time.time()#record time\n",
    "time_cost_time_list = store_time(2,time_cost_time_list,end-start)\n",
    "print_time_string(2,time_cost_string_list,time_cost_time_list)\n",
    "%memit"
   ]
  },
  {
   "cell_type": "markdown",
   "metadata": {},
   "source": [
    "# ComponentClassifierTraining (Not pre-trained)\n",
    "### If model has been trained before:\n",
    "### Then the train and save functions should be replaced with:\n",
    "training_obj.model.load_weights(PATH+name+'.h5')\n",
    "### Such that the below code is the following:\n",
    "training_obj = ComponentClassifierTraining(PATH, data_set_name, num_classes, dropout, TRAINING_RATIO_TRAIN, TRAINING_RATIO_VAL)<br>\n",
    "training_obj.shuffle_data(training_obj.load_data(PATH,data_set_name),1000)<br>\n",
    "<br>\n",
    "#Model is Sketch_a_net<br>\n",
    "training_obj.model = training_obj.load_sketch_a_net_model(dropout, num_classes, training_obj.X_train.shape[1:])<br>\n",
    "training_obj.model.load_weights(PATH+name+'.h5')<br>\n",
    "##### The ComponentClassifierTraining object is first initialized with:\n",
    "    - PATH: working directory\n",
    "    - data_set_name: for loading training data set\n",
    "    - num_classes, dropout: CNN model parameters\n",
    "    - TRAINING_RATIO_TRAIN, TRAINING_RATIO_VAL: training parameters\n",
    "##### The shuffle_data is then called to shuffle the training data using a seed<br>The Sketch_A_Net model is then loaded<br>Then the model is trained with 100 epochs<br>Then the model weights are saved<br>Finally the trained model is stored in trained_model to be passed onto a ComponentClassifierPredict object\n",
    "#### If model weights have been trained before, the training and saving is not required, and the load_weights function has to be called instead."
   ]
  },
  {
   "cell_type": "code",
   "execution_count": null,
   "metadata": {},
   "outputs": [],
   "source": [
    "start = time.time() # Begin time measurement\n",
    "\n",
    "seed = 1000\n",
    "i = 1234\n",
    "training_obj = ComponentClassifierTraining(num_classes,TRAINING_RATIO_TRAIN, TRAINING_RATIO_VAL)\n",
    "\"\"\"no need to load dataset since not training (only need to load model weights)\"\"\"\n",
    "#training_obj.shuffle_data(training_obj.load_data(dataset_PATH,dataset_name),seed)\n",
    "\n",
    "#Model is Sketch_a_net\n",
    "training_obj.model = training_obj.load_sketch_a_net_model_7_layers(dropout, num_classes, (100,100,1))\n",
    "\n",
    "\n",
    "dataset_name= \"Training_Samples_64_classes_100x100_all_cleaned_29724\" # base training images\n",
    "\n",
    "\n",
    "#training_obj.train(2000,seed,dataset_PATH,dataset_name)\n",
    "#training_obj.save(name+'_'+str(i))\n",
    "training_obj.model.load_weights(dataset_PATH+model_name+'.h5')\n",
    "\n",
    "trained_model = training_obj.model\n",
    "\n",
    "end = time.time()#record time\n",
    "time_cost_time_list = store_time(3,time_cost_time_list,end-start)\n",
    "print_time_string(3,time_cost_string_list,time_cost_time_list)"
   ]
  },
  {
   "cell_type": "markdown",
   "metadata": {},
   "source": [
    "# ComponentClassifierPredict\n",
    "### The ComponentClassifierPredict object is first initialized with the entropy-based hyperparameters:\n",
    "    - min_percent_match\n",
    "    - min_confidence\n",
    "These parameters were explained in the Hyperparameters section above.\n",
    "### The predict_classes function produces the following:\n",
    "    - ext_class_index_list: ordered list of highest % match class predictions for each\n",
    "The entropy-based modifications are applied to the above (such that if any of the two criteria are not satisfied, the prediction is classified as random)\n",
    "    - ext_class_name_list: ordered list of corresponding names to ext_class_index_list\n",
    "    - ext_match_first_max_percent_list: ordered list of corresponding first-highest match percentage\n",
    "    - ext_match_second_max_percent_list: ordered list of corresponding second-highest match percentage"
   ]
  },
  {
   "cell_type": "code",
   "execution_count": null,
   "metadata": {},
   "outputs": [],
   "source": [
    "from component_classifier_predict import ComponentClassifierPredict\n",
    "start = time.time() # Begin time measurement\n",
    "\n",
    "predictor = ComponentClassifierPredict(min_percent_match, min_confidence)\n",
    "\"\"\"\n",
    "ext_class_index_list, ext_class_name_list, \\\n",
    "ext_match_first_max_percent_list, \\\n",
    "ext_match_second_max_percent_list = prediction_obj.predict_classes(ext_images_list,trained_model)\n",
    "\"\"\"\n",
    "ext_class_index_list, ext_class_name_list, ext_match_first_max_percent_list, ext_match_second_max_percent_list = predictor.predict_classes(ext_images_list,trained_model)\n",
    "#predictor = None\n",
    "gc.collect()\n",
    "\n",
    "end = time.time()#record time\n",
    "time_cost_time_list = store_time(4,time_cost_time_list,end-start)\n",
    "print_time_string(4,time_cost_string_list,time_cost_time_list)\n",
    "%memit"
   ]
  },
  {
   "cell_type": "markdown",
   "metadata": {},
   "source": [
    "# Printing Results\n",
    "#### Results are plotted on the original image using:\n",
    "    - image: for background\n",
    "    - model_name: for saving\n",
    "    - ext_data_list: list of x, y, w, h coordinates for each bounding box\n",
    "    - ext_class_index_list: list of predicted class indices\n",
    "    - ext_class_name_list: list of corresponding class names per predicted index\n",
    "    - ground_truth_index_list: list of ground truth class indices (currently set as the predicted classes.)*\n",
    "##### Each bounding box is labelled with two items separated by a colon:\n",
    "    - First: index of that object in the full list.\n",
    "    - Second: predicted class name of that object.\n",
    "##### If the predicted class matches with the ground truth class, <br> then the predicted label is coloured green, otherwise it is red. <br> * For this example, the ground truth labels were set as the predicted classes, so all labels are green."
   ]
  },
  {
   "cell_type": "code",
   "execution_count": null,
   "metadata": {},
   "outputs": [],
   "source": [
    "from helper_functions import plot_model_results_and_save\n",
    "start = time.time() # Begin time measurement\n",
    "\n",
    "#ext_data_list = [(1072, 831, 816, 25), (1920, 716, 30, 48), (761, 567, 1076, 29), (1017, 680, 33, 65), (186, 871, 116, 131), (1859, 830, 107, 103), (1071, 667, 45, 181), (1869, 700, 36, 120), (649, 567, 42, 60), (1048, 702, 24, 29), (259, 831, 1629, 46), (253, 591, 335, 36), (1945, 713, 36, 44), (1834, 568, 52, 31), (253, 600, 50, 27), (1131, 831, 757, 24)]\n",
    "#ext_class_index_list = [52, 4, 52, 4, 33, 33, 11, 11, 7, 0, 52, 60, 2, 12, 13, 52]\n",
    "print(ext_class_index_list)\n",
    "print(ext_data_list)\n",
    "\n",
    "\n",
    "ground_truth_index_list = ext_class_index_list # set all answers as correct answers for now\n",
    "'''\n",
    "to_remove = [14,2]\n",
    "for i in to_remove:\n",
    "    print(i)\n",
    "    del ext_match_first_max_percent_list[i]\n",
    "    del ext_match_second_max_percent_list[i]\n",
    "    del ext_class_name_list[i]\n",
    "    del ground_truth_index_list[i]\n",
    "    del ext_data_list[i]\n",
    "    del ext_class_index_list[i]\n",
    "'''\n",
    "from constants import target_names_all\n",
    "do_convert = True\n",
    "to_convert = [(9,1),(7,23),(3,52),(4,23)]\n",
    "if do_convert > 0:\n",
    "     #(index_i,new_class)\n",
    "    for i in range(len(to_convert)):\n",
    "        ext_class_index_list[to_convert[i][0]] = to_convert[i][1]\n",
    "        ext_class_name_list[to_convert[i][0]] = target_names_all[to_convert[i][1]]\n",
    "    \n",
    "plot_model_results_and_save(image,model_name, ext_data_list, ext_class_index_list, \n",
    "                            ext_class_name_list, ground_truth_index_list,\n",
    "                            m1_percent_list=ext_match_first_max_percent_list, \n",
    "                            m2_percent_list=ext_match_second_max_percent_list, \n",
    "                            show_percentages = False,print_extra_indices=True, \n",
    "                            rejected_classes = [22,23])\n",
    "predictor.save_predictions(ext_data_list,ext_class_index_list,test_path,\"GT_\"+image_name.split(\".\")[0]+\".txt\")\n",
    "\n",
    "end = time.time()#record time\n",
    "time_cost_time_list = store_time(5,time_cost_time_list,end-start)\n",
    "print_time_string(5,time_cost_string_list,time_cost_time_list)\n",
    "%memit"
   ]
  },
  {
   "cell_type": "markdown",
   "metadata": {},
   "source": [
    "# System Reconstruction"
   ]
  },
  {
   "cell_type": "code",
   "execution_count": null,
   "metadata": {},
   "outputs": [],
   "source": [
    "from FEM_3 import produce_graphs\n",
    "\n",
    "produce_graphs(image_name.split(\".\")[0])"
   ]
  },
  {
   "cell_type": "markdown",
   "metadata": {},
   "source": [
    "# ExtractionLabelling\n",
    "#### The ExtractionLabelling class is used to label the problem image with ground truths in the form of x, y, w, h, c <br>where x, y, w, h are the coordinates of the bounding box, and c is the class of the object in the box.\n",
    "#### The class is an interactive program where the user will be asked to verify the correctness <br> of the bounding box regions and classes predicted by the current best segmentation + classification algorithm.\n",
    "##### The class is initialized using:\n",
    "    - PATH: working directory\n",
    "    - ext_images_list: list of extraction images\n",
    "    - ext_data_list: list of extraction image coordinates (x, y, w, h)\n",
    "    - ext_class_index_list: list of predicted class indices (c)\n",
    "    - ext_class_name_list: list of predicted class names\n",
    "    - num_classes, img_rows, img_cols: selected CNN model parameters\n",
    "##### The define_model function is then called to load the model (from the trained_model variable). <br> Then the select_good_bounding_boxes function is called to allow the user to verify the bounding boxes and predicted classes. <br> Finally, after all the objects have been segmented and classified and saved in a text file, the data is plotted on the original image.\n",
    "##### The process of the interactive program is described in the diagram below:\n",
    "<img src=\"https://justinsj.weebly.com/uploads/6/4/9/2/64923303/extraction-labelling-flowchart_orig.jpg\" alt=\"Drawing\" style=\"width: 800px;\"/>"
   ]
  },
  {
   "cell_type": "code",
   "execution_count": null,
   "metadata": {},
   "outputs": [],
   "source": [
    "start = time.time() # Begin time measurement\n",
    "\"\"\"\n",
    "labelling_obj = ExtractionLabelling(ext_images_list, ext_data_list,ext_class_index_list, ext_class_name_list, \n",
    "                          num_classes, img_rows, img_cols,min_percent_match,min_confidence)\n",
    "\n",
    "labelling_obj.define_model(trained_model)\n",
    "\n",
    "### Long procedure\n",
    "labelling_obj.select_good_bounding_boxes(image, dataset_PATH,\"easy_\" + str(image_index))\n",
    "labelling_obj.plot_ground_truths(image, dataset_PATH,\"easy_\" + str(image_index))\n",
    "\"\"\"\n",
    "end = time.time()#record time\n",
    "time_cost_time_list = store_time(6,time_cost_time_list,end-start)\n",
    "print_time_string(6,time_cost_string_list,time_cost_time_list)\n",
    "\n",
    "%memit"
   ]
  },
  {
   "cell_type": "markdown",
   "metadata": {
    "collapsed": true
   },
   "source": [
    "# Active Learning<br>Data Concatenation & Cleaning\n",
    "#### A dataset by name is added into the training dataset for improvement in accuracy"
   ]
  },
  {
   "cell_type": "code",
   "execution_count": null,
   "metadata": {},
   "outputs": [],
   "source": [
    "start = time.time() # Begin time measurement\n",
    "'''\n",
    "dataset_name_1 = \"Training_Samples_64_classes_100x100_all_cleaned_29724\" # base training images\n",
    "dataset_name_2 = \"Training_Samples_64_classes_100x100_all_cleaned_13291\" # problem ground truth images\n",
    "dataset_name_list = [dataset_name_1, dataset_name_2]\n",
    "\n",
    "### Long procedure\n",
    "cleaned_datasets_list = labelling_obj.clean_datasets(dataset_PATH,dataset_name_list)\n",
    "final_dataset_name = labelling_obj.concatenate_datasets(dataset_PATH, cleaned_datasets_list, start, end) #**kwargs: suffix, exclude\n",
    "\n",
    "'''\n",
    "end = time.time()#record time\n",
    "time_cost_time_list = store_time(7,time_cost_time_list,end-start)\n",
    "print_time_string(7,time_cost_string_list,time_cost_time_list)\n",
    "%memit"
   ]
  },
  {
   "cell_type": "markdown",
   "metadata": {},
   "source": [
    "# Data Control, Count, & Training from Multiple Files"
   ]
  },
  {
   "cell_type": "code",
   "execution_count": null,
   "metadata": {},
   "outputs": [],
   "source": [
    "start = time.time() # Begin time measurement\n",
    "'''\n",
    "seed = 1000\n",
    "\n",
    "epochs = 1000\n",
    "\n",
    "training_obj = ComponentClassifierTraining(num_classes, TRAINING_RATIO_TRAIN, TRAINING_RATIO_VAL)\n",
    "training_obj.model = training_obj.load_sketch_a_net_model(dropout, num_classes,(100,100,1))\n",
    "\n",
    "new_dataset_name = training_obj.control_dataset(dataset_PATH, dataset_name_list,num_classes,600)\n",
    "data_count_list = training_obj.count_dataset(dataset_PATH, [new_dataset_name],num_classes) \n",
    "\n",
    "training_obj.train_from_multiple_files(epochs,seed,dataset_PATH,dataset_name_list,verbose = 1) ### Long procedure\n",
    "weights_name = \"Training_Samples_64_classes_100x100_all_cleaned_updated_29724+13291\"\n",
    "training_obj.save(dataset_PATH+weights_name)\n",
    "\n",
    "trained_model = training_obj.model\n",
    "'''\n",
    "end = time.time()#record time\n",
    "time_cost_time_list = store_time(8,time_cost_time_list,end-start)\n",
    "print_time_string(8,time_cost_string_list,time_cost_time_list)"
   ]
  },
  {
   "cell_type": "markdown",
   "metadata": {},
   "source": [
    "# TestingClass"
   ]
  },
  {
   "cell_type": "code",
   "execution_count": null,
   "metadata": {},
   "outputs": [],
   "source": [
    "start = time.time() # Begin time measurement\n",
    "'''\n",
    "seed = 1000\n",
    "\n",
    "weights_name = new_dataset_name\n",
    "#weights_name = \"Training_Samples_64_classes_100x100_all_cleaned_updated_29739+7500(0-350)\"\n",
    "#weights_name = dataset_name\n",
    "dataset_name_1 = \"Training_Samples_64_classes_100x100_all_cleaned_29724\" # base training images\n",
    "dataset_name_2 = \"Training_Samples_64_classes_100x100_all_cleaned_13291\" # problem ground truth images\n",
    "dataset_name_list = [dataset_name_1, dataset_name_2]\n",
    "\n",
    "### Long procedure\n",
    "testing_obj = TestingClass(dataset_PATH, wanted_w, wanted_h, export_w, export_h, max_piece_percent)\n",
    "# Slower does testing with as little memory at all times as possible\n",
    "ground_truth_list, prediction_list = testing_obj.test_classifier_multiple_slow(dataset_PATH, dataset_name_list,\n",
    "                                     num_classes,dropout, \n",
    "                                     TRAINING_RATIO_TRAIN, TRAINING_RATIO_VAL,\n",
    "                                     200,seed,350,706, weights_name = weights_name)\n",
    "'''\n",
    "end = time.time()#record time\n",
    "time_cost_time_list = store_time(9,time_cost_time_list,end-start)\n",
    "print_time_string(9,time_cost_string_list,time_cost_time_list)"
   ]
  },
  {
   "cell_type": "markdown",
   "metadata": {},
   "source": [
    "# Print Confusion Matrix"
   ]
  },
  {
   "cell_type": "code",
   "execution_count": null,
   "metadata": {},
   "outputs": [],
   "source": [
    "start = time.time() # Begin time measurement\n",
    "\n",
    "confusion_matrix_index = 1\n",
    "from data_analysis_data import ground_truth_list_1 as ground_truth_list\n",
    "from data_analysis_data import prediction_list_1 as prediction_list\n",
    "\n",
    "#Add base data for confusion matrix\n",
    "for i in range(64):\n",
    "    ground_truth_list.append(i)\n",
    "    prediction_list.append(i)\n",
    "    \n",
    "# Compute confusion matrix\n",
    "from sklearn.metrics import confusion_matrix\n",
    "cnf_matrix = confusion_matrix(ground_truth_list,prediction_list)\n",
    "\n",
    "# Plot non-normalized confusion matrix\n",
    "from helper_functions import plot_confusion_matrix\n",
    "from constants import target_names_all\n",
    "import matplotlib.pyplot as plt\n",
    "plot_confusion_matrix(cnf_matrix, classes=target_names_all,\n",
    "                      normalize=False,\n",
    "                      title='Confusion matrix', \n",
    "                      cmap=plt.cm.Blues,PATH=dataset_PATH, name=\"confusion_matrix_\"+str(confusion_matrix_index), verbose = False)\n",
    "\n",
    "from helper_functions import confusion_matrix_analysis\n",
    "dataset_PATH = \"C:/Users/JustinSanJuan/Desktop/HKUST/UROP Deep Learning Image-based Structural Analysis/Code/Python/Testing Folder/\"\n",
    "name = \"confusion_matrix_\"+str(confusion_matrix_index)+\"_analysis\"\n",
    "min_count = 5\n",
    "confusion_matrix_analysis(cnf_matrix, dataset_PATH, name, min_count, verbose = False) #Turn verbose on to show data analysis\n",
    "\n",
    "\n",
    "end = time.time()#record time\n",
    "time_cost_time_list = store_time(10,time_cost_time_list,end-start)\n",
    "print_time_string(10,time_cost_string_list,time_cost_time_list)"
   ]
  },
  {
   "cell_type": "markdown",
   "metadata": {
    "collapsed": true
   },
   "source": [
    "# Time Cost Analysis"
   ]
  },
  {
   "cell_type": "code",
   "execution_count": null,
   "metadata": {},
   "outputs": [],
   "source": [
    "time_cost_string = ''\n",
    "for i in range(len(time_cost_string_list)):\n",
    "    time_cost_string += str(time_cost_string_list[i]) +' : ' + str(time_cost_time_list[i])+'\\n'\n",
    "print(time_cost_string)\n",
    "%memit"
   ]
  },
  {
   "cell_type": "code",
   "execution_count": null,
   "metadata": {},
   "outputs": [],
   "source": []
  },
  {
   "cell_type": "code",
   "execution_count": null,
   "metadata": {},
   "outputs": [],
   "source": []
  },
  {
   "cell_type": "raw",
   "metadata": {
    "collapsed": true
   },
   "source": []
  }
 ],
 "metadata": {
  "kernelspec": {
   "display_name": "Python 3",
   "language": "python",
   "name": "python3"
  },
  "language_info": {
   "codemirror_mode": {
    "name": "ipython",
    "version": 3
   },
   "file_extension": ".py",
   "mimetype": "text/x-python",
   "name": "python",
   "nbconvert_exporter": "python",
   "pygments_lexer": "ipython3",
   "version": "3.6.4"
  }
 },
 "nbformat": 4,
 "nbformat_minor": 2
}
