{
 "cells": [
  {
   "cell_type": "code",
   "execution_count": 9,
   "metadata": {},
   "outputs": [
    {
     "name": "stdout",
     "output_type": "stream",
     "text": [
      "3\n",
      "3\n",
      "8\n"
     ]
    }
   ],
   "source": [
    "# Definition for singly-linked list.\n",
    "class ListNode(object):\n",
    "    def __init__(self, x):\n",
    "        self.val = x\n",
    "        self.next = None\n",
    "\n",
    "class Solution(object):\n",
    "    def addTwoNumbers(self, l1, l2):\n",
    "        \"\"\"\n",
    "        :type l1: ListNode\n",
    "        :type l2: ListNode\n",
    "        :rtype: ListNode\n",
    "        \"\"\"\n",
    "        if l1 is None and l2 is None:\n",
    "            return None\n",
    "\n",
    "        if l1 is None:\n",
    "            return l2\n",
    "        \n",
    "        if l2 is None:\n",
    "            return l1\n",
    "        \n",
    "        l = ListNode(0)\n",
    "        mod = 0\n",
    "        curr  = l\n",
    "\n",
    "        l1_node, l2_node = l1, l2    # Working pointer\n",
    "        while l1_node is not None or l2_node is not None:\n",
    "            if l1_node is not None and l2_node is not None:\n",
    "                real_sum = l1_node.val + l2_node.val + mod\n",
    "            elif l1_node is not None:\n",
    "                real_sum = l1_node.val + mod\n",
    "            else:    # l2_node is not None\n",
    "                real_sum = l2_node.val + mod\n",
    "            node_sum = real_sum % 10\n",
    "            mod = real_sum // 10 \n",
    "\n",
    "            node = ListNode(node_sum)\n",
    "            curr.next = node\n",
    "            curr = curr.next\n",
    "\n",
    "            if l1_node is not None:\n",
    "                l1_node = l1_node.next\n",
    "            if l2_node is not None:\n",
    "                l2_node = l2_node.next\n",
    "\n",
    "        return l.next    # Slicing\n",
    "\n",
    "\n",
    "def main():\n",
    "\n",
    "    solution = Solution()\n",
    "    # Create l1\n",
    "    l1 = ListNode(5)\n",
    "    l1.next = ListNode(3)\n",
    "    l1.next.next = ListNode(7)\n",
    "\n",
    "    # Create l2\n",
    "    l2 = ListNode(8)\n",
    "    l2.next = ListNode(9)\n",
    "\n",
    "    a = solution.addTwoNumbers(l1, l2)\n",
    "    \n",
    "    print(a.val)\n",
    "    print(a.next.val)\n",
    "    print(a.next.next.val)\n",
    "#     print(a.next.next.next.val)\n",
    "    \n",
    "\n",
    "if __name__ == '__main__':\n",
    "    main()"
   ]
  },
  {
   "cell_type": "code",
   "execution_count": null,
   "metadata": {
    "collapsed": true
   },
   "outputs": [],
   "source": []
  }
 ],
 "metadata": {
  "kernelspec": {
   "display_name": "Python [conda env:comp4901j_assignment1]",
   "language": "python",
   "name": "conda-env-comp4901j_assignment1-py"
  },
  "language_info": {
   "codemirror_mode": {
    "name": "ipython",
    "version": 3
   },
   "file_extension": ".py",
   "mimetype": "text/x-python",
   "name": "python",
   "nbconvert_exporter": "python",
   "pygments_lexer": "ipython3",
   "version": "3.5.4"
  }
 },
 "nbformat": 4,
 "nbformat_minor": 2
}
