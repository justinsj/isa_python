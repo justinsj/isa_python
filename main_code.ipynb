{
 "cells": [
  {
   "cell_type": "markdown",
   "metadata": {},
   "source": [
    "# Image-Based Structural Analysis\n",
    "### Code created and maintained by Justin David Q. SAN JUAN, <br>email: jdqsj1997@yahoo.com, <br> personal website: justinsj.weebly.com\n",
    "\n",
    "#### This code focuses in the segmentation and classification processes (except reconstruction) of the complete project pipeline as described below:\n",
    "<img src=\"https://justinsj.weebly.com/uploads/6/4/9/2/64923303/process-flowchart_orig.jpg\" alt=\"Drawing\" style=\"width: 800px;\"/>"
   ]
  },
  {
   "cell_type": "markdown",
   "metadata": {},
   "source": [
    "# Import Dependencies\n",
    "#### Dependencies:\n",
    "numpy: for handling data types (mostly handled as numpy arrays)<br>\n",
    "Sequential (from keras.models): for CNN setup<br>\n",
    "random: for pseudo-random shuffling of data<br>\n",
    "cv2: for raw RBG image import and transformation to grayscale<br>\n",
    "time: for measuring time elapsed per function<br>\n",
    "##### Custom Classes:\n",
    "ComponentSegmentation: for proposing regions of interest (RoI's)<br>\n",
    "ExtractionPreprocessing: for trimming, noise removal, and resizing of image<br>\n",
    "ComponentClassifierTraining: for loading the CNN model, training data, and training the model<br>\n",
    "ComponentClassifierPredict: for using the CNN model to predict the class of preprocessed extractions<br>\n",
    "ExtractionLabelling: for labelling ground truth bounding boxes and classes in problem images<br>\n",
    "TestingClass: for testing the accuracy of a CNN model on the problem images<br>\n",
    "<br>\n",
    "print_image_bw is used to print a simple 2-D array<br>\n",
    "gc: for clearing up space after acquiring data from larger datasets"
   ]
  },
  {
   "cell_type": "code",
   "execution_count": 1,
   "metadata": {},
   "outputs": [
    {
     "name": "stderr",
     "output_type": "stream",
     "text": [
      "Using TensorFlow backend.\n"
     ]
    },
    {
     "name": "stdout",
     "output_type": "stream",
     "text": [
      "Done Importing...\n"
     ]
    }
   ],
   "source": [
    "from __future__ import print_function\n",
    "import numpy as np\n",
    "\n",
    "from keras.models import Sequential\n",
    "\n",
    "import random\n",
    "\n",
    "import cv2\n",
    "import time\n",
    "\n",
    "from component_segmentation import ComponentSegmentation\n",
    "from extraction_preprocessing import ExtractionPreprocessing\n",
    "from component_classifier_training import ComponentClassifierTraining\n",
    "from component_classifier_predict import ComponentClassifierPredict\n",
    "from extraction_labelling import ExtractionLabelling\n",
    "from testing_class import TestingClass\n",
    "from helper_functions import print_image_bw\n",
    "from helper_functions import plot_model_results_and_save\n",
    "from helper_functions import print_time_string, store_time\n",
    "\n",
    "import gc\n",
    "gc.enable()\n",
    "\n",
    "print('Done Importing...')"
   ]
  },
  {
   "cell_type": "markdown",
   "metadata": {},
   "source": [
    "# Hyper-parameters\n",
    "#### Selective Search Parameters:\n",
    "scale_input<br>\n",
    "sigma_input<br>\n",
    "min_size_input<br>\n",
    "#### Noise Reduction Parameters:\n",
    "min_shape: for minimum number of black pixels in bounding box<br>\n",
    "min_height: for minimum height of bounding box<br>\n",
    "min_width: for minimum width of bounding box<br>\n",
    "<br>\n",
    "buffer_zone: for expanding bounding box all directions<br>\n",
    "min_area: for minimum area of bounding box<br>\n",
    "min_black: for minimum number of black pixels in bounding box<br>\n",
    "min_black_ratio: for minimum ratio of black pixels to the bounding box area<br>\n",
    "#### Overlap Parameters:\n",
    "overlap_repeats: for number of iterations for merging algorithm to be applied<br>\n",
    "overlap_threshold: threshold of area overlap over union area for merging to be applied<br>\n",
    "#### Removing Unconnected Pieces Parameters:\n",
    "max_piece_percent: maximum percentage of piece to be removed<br>\n",
    "(if percentage is larger, piece will not be removed as it is more likely an important piece)<br>\n",
    "#### Extractions Preprocessing Parameters:\n",
    "img_rows, img_cols: for classifier input shape<br>\n",
    "wanted_w, wanted_h: for black pixels edges resizing boundary shape<br>\n",
    "export_w, export_h: for overall image resizing shape ([export_w-wanted_w]/2 = horizontal buffer on each side)<br>\n",
    "#### CNN Training Parameters:\n",
    "num_classes: number of classes for classifier to predict<br>\n",
    "TRAINING_RATIO_TRAIN: ratio of training samples to total number of samples<br>\n",
    "TRAINING_RATIO_VAL: ratio of validation samples to total number of samples<br>\n",
    "TRAINING_RATIO_TEST: ratio of test samples to total number of samples <br>\n",
    "Note: TRAINING_RATIO_TEST is implicitly calculated as [1-{TRAINING_RATIO_TRAIN + TRAINING_RATIO_VAL}]<br>\n",
    "dropout: dropout value to be used in all layers except last layer of Sketch-A-Net CNN model<br>\n",
    "#### CNN Prediction Parameters:\n",
    "min_percent_match: minimum probability of class prediction for that class to be set as the prediction<br>\n",
    "min_confidence: minimum difference between first-highest % match and second-highest % match<br>\n",
    "(higher difference means less ambiguity between first and second highest match, which means less likelihood of random object)<br>\n",
    "##### The directory is also defined in the PATH variable.<br>The name of the CNN model data is defined in the name variable.<br>The training data set name for the CNN is defined in the data_set_name variable."
   ]
  },
  {
   "cell_type": "code",
   "execution_count": 2,
   "metadata": {},
   "outputs": [
    {
     "name": "stdout",
     "output_type": "stream",
     "text": [
      "Done setting hyperparamters...\n"
     ]
    }
   ],
   "source": [
    "#selective search parameters\n",
    "scale_input=200 #200 previous: #10\n",
    "sigma_input=10 #10 previous: #15\n",
    "min_size_input=10 #10 previous: #5\n",
    "\n",
    "#noise reduction parameters\n",
    "min_shape=15 #min. number of black pixels  \n",
    "min_height=10 #min. height of bounding box\n",
    "min_width=10 #min. width of bounding box\n",
    "\n",
    "buffer_zone=2 #expand bounding box by this amount in all directions  \n",
    "min_area=100 #min. area of bounding box\n",
    "min_black=20 #min. number of black pixels\n",
    "min_black_ratio=0.01 #min ratio of black pixels to the bounding box area\n",
    "\n",
    "#Overlap parameters\n",
    "overlap_repeats = 8 #set to 8\n",
    "overlap_threshold = 0.3 #set to 0.3 (overlap has to be larger than the threshold)\n",
    "\n",
    "#Removing unconnected pieces parameters\n",
    "max_piece_percent=0.3  # set to 0.3\n",
    "\n",
    "#Extractions preprocessing paramaters\n",
    "img_rows, img_cols = 100,100\n",
    "wanted_w, wanted_h, export_w, export_h = img_cols, img_rows, img_cols, img_rows\n",
    "\n",
    "#CNN training parameters\n",
    "num_classes = 64\n",
    "TRAINING_RATIO_TRAIN = 0.7\n",
    "TRAINING_RATIO_VAL = 0.15\n",
    "dropout = 0\n",
    "\n",
    "#CNN prediction parameters\n",
    "min_percent_match = 0.7 # set to 0.7\n",
    "min_confidence = 0.3 # set to 0.3\n",
    "\n",
    "#Time Cost parameters\n",
    "time_cost_string_list = ['Loading image','Component Segmentation','Extraction Preprocessing',\n",
    "                         'Component Classifier Training','Component Classifier Predict',\n",
    "                        'Printing Results','Acquiring and Printing Ground Truth Data',\n",
    "                        'Data Concatenation & Cleaning','Data Control, Counting, & Training from Multiple Files',\n",
    "                        'Testing','Printing Confusion Matrix']\n",
    "time_cost_time_list = np.zeros(len(time_cost_string_list)).astype(np.int).tolist()\n",
    "\n",
    "#Paths and names\n",
    "PATH = 'C:/Users/JustinSanJuan/Desktop/Workspace/python/Testing Folder/' #must have \"/\" at the end\n",
    "\n",
    "model_name = 'Sketch-A-Net_controlled_600_30858_7_layers'\n",
    "\n",
    "base_dataset_name = 'Training_Samples_64_classes_100x100_all'\n",
    "\n",
    "dataset_PATH = 'C:/Users/JustinSanJuan/Desktop/HKUST/UROP Deep Learning Image-based Structural Analysis/Code/Python/Testing Folder/'\n",
    "dataset_name = 'Training_Samples_64_classes_100x100_all_cleaned_32898'\n",
    "new_dataset_name = 'Training_Samples_64_classes_100x100_all_cleaned_32898'\n",
    "\n",
    "print('Done setting hyperparamters...')"
   ]
  },
  {
   "cell_type": "markdown",
   "metadata": {},
   "source": [
    "# Load Image\n",
    "Image (binary, grayscale, 2D, numpy array) for regions of interest proposals is loaded."
   ]
  },
  {
   "cell_type": "code",
   "execution_count": 3,
   "metadata": {
    "scrolled": true
   },
   "outputs": [
    {
     "data": {
      "image/png": "[encoded data removed]",
      "text/plain": [
       "<matplotlib.figure.Figure at 0x2564b3a1438>"
      ]
     },
     "metadata": {},
     "output_type": "display_data"
    },
    {
     "name": "stdout",
     "output_type": "stream",
     "text": [
      "Loading image done... Time Elapsed : 1.6242139339447021 seconds...\n"
     ]
    }
   ],
   "source": [
    "start = time.time() # Begin time measurement\n",
    "\n",
    "image_index = 6\n",
    "image_set = np.load(dataset_PATH+'all_training_image_'+str(image_index)+'.npy')\n",
    "image = np.copy(image_set[:,:])\n",
    "image = np.load(dataset_PATH+'easy_training_images.npy')[:,:,50]\n",
    "image_set = None #clear image_set\n",
    "gc.collect() #clear unreferenced data\n",
    "\n",
    "l,w = 15,15 #dimension scales of print\n",
    "print_image_bw(image,l,w)\n",
    "      \n",
    "end = time.time()#record time\n",
    "time_cost_time_list = store_time(0,time_cost_time_list,end-start)\n",
    "print_time_string(0,time_cost_string_list,time_cost_time_list)"
   ]
  },
  {
   "cell_type": "markdown",
   "metadata": {},
   "source": [
    "# Component Segmentation\n",
    "##### Using the ComponentSegmentation class:\n",
    "    1. Selective Search is applied to the image (to generate bounding boxes)\n",
    "    2. A merging algorithm is applied to the selective search bounding boxes (to merge highly overlapping bounding boxes)\n",
    "##### The ComponentSegmentation uses the following data for initialization:\n",
    "    - image: binary (grayscale) 2-D array for region proposal\n",
    "    - name: for unique prints saving\n",
    "    - min_shape, min_height, min_width, buffer_zone, min_area, min_black, min_black_ratio: for noise reduction\n",
    "    - overlap_repeats, overlap_threshold: for merging algorithm\n",
    "##### Then, the RoI proposal is done using the custom search method, which uses the selective search hyper-parameters:\n",
    "    - scale_input\n",
    "    - sigma_input\n",
    "    - min_size_input\n",
    "##### Then, the merging algorithm is applied within the search function, and a merged_set is retrieved."
   ]
  },
  {
   "cell_type": "code",
   "execution_count": 4,
   "metadata": {},
   "outputs": [
    {
     "name": "stdout",
     "output_type": "stream",
     "text": [
      "Premerged Set\n"
     ]
    },
    {
     "data": {
      "image/png": "[encoded data removed]",
      "text/plain": [
       "<matplotlib.figure.Figure at 0x2564b53bb38>"
      ]
     },
     "metadata": {},
     "output_type": "display_data"
    },
    {
     "name": "stdout",
     "output_type": "stream",
     "text": [
      "Merged Set\n"
     ]
    },
    {
     "data": {
      "image/png": "[encoded data removed]",
      "text/plain": [
       "<matplotlib.figure.Figure at 0x2564bda9b00>"
      ]
     },
     "metadata": {},
     "output_type": "display_data"
    },
    {
     "name": "stdout",
     "output_type": "stream",
     "text": [
      "Component Segmentation done... Time Elapsed : 5.455939531326294 seconds...\n"
     ]
    }
   ],
   "source": [
    "start = time.time() # Begin time measurement\n",
    "\n",
    "#Create object ComponentSegmentation, which will use the search function to perform segmentation and merging.\n",
    "segmentation_obj = ComponentSegmentation(image, model_name, min_shape, min_height, min_width, buffer_zone, min_area, min_black, min_black_ratio, overlap_repeats, overlap_threshold)\n",
    "segmentation_obj.search(scale_input, sigma_input, min_size_input) # run search (segmentation code)\n",
    "merged_set = segmentation_obj.merged_set\n",
    "\n",
    "end = time.time()#record time\n",
    "time_cost_time_list = store_time(1,time_cost_time_list,end-start)\n",
    "print_time_string(1,time_cost_string_list,time_cost_time_list)"
   ]
  },
  {
   "cell_type": "markdown",
   "metadata": {},
   "source": [
    "# ExtractionPreprocessing\n",
    "#### Merged set from ComponentSegmentation is passed to ExtractionPreprocessing and the following is applied:\n",
    "    1. Trim: extra space around the farthest black pixels are removed\n",
    "    2. Remove Unconnected Parts: extra pixels (from other components) captured by the bounding box are removed\n",
    "    3. Trim: trimming again as empty spaces may be released\n",
    "    4. Resize: extraction is resized to the prescribed 100x100 dimension using max pooling for downsampling to preserve data\n",
    "ext_images_list = extraction images: list of 100x100 binary (grayscale) 2-D arrays<br>\n",
    "ext_data_list = extraction data: list of x, y, w, h data of extractions bounding boxes<br> \n",
    "where:<br>\n",
    "    - x, y: top-left corner coordinates of bounding box\n",
    "    - w, h: width and height of bounding box respectively\n",
    "#### The preprocess_extractions function is called and the extraction images and extraction data are acquired.\n",
    "#### The plot_bounding_boxes_with_names function is then used to display the bounding boxes on the original image."
   ]
  },
  {
   "cell_type": "code",
   "execution_count": 5,
   "metadata": {},
   "outputs": [
    {
     "data": {
      "image/png": "[encoded data removed]",
      "text/plain": [
       "<matplotlib.figure.Figure at 0x2564b53bbe0>"
      ]
     },
     "metadata": {},
     "output_type": "display_data"
    },
    {
     "name": "stdout",
     "output_type": "stream",
     "text": [
      "Extraction Preprocessing done... Time Elapsed : 7.0978429317474365 seconds...\n"
     ]
    }
   ],
   "source": [
    "start = time.time() # Begin time measurement\n",
    "\n",
    "#Transport data into ExtractionPreprocessing class, which will trim, remove unconnected parts, then trim, and resize\n",
    "extraction_obj = ExtractionPreprocessing(image, model_name, merged_set)\n",
    "\n",
    "# Get 4 lists from preprocess_extractions function\n",
    "ext_images_list, ext_data_list = extraction_obj.preprocess_extractions(wanted_w, wanted_h, export_w, export_h, max_piece_percent)\n",
    "extraction_obj.plot_bounding_boxes_with_names()\n",
    "\n",
    "end = time.time()#record time\n",
    "time_cost_time_list = store_time(2,time_cost_time_list,end-start)\n",
    "print_time_string(2,time_cost_string_list,time_cost_time_list)"
   ]
  },
  {
   "cell_type": "markdown",
   "metadata": {},
   "source": [
    "# ComponentClassifierTraining (Not pre-trained)\n",
    "### If model has been trained before:\n",
    "### Then the train and save functions should be replaced with:\n",
    "training_obj.model.load_weights(PATH+name+'.h5')\n",
    "### Such that the below code is the following:\n",
    "training_obj = ComponentClassifierTraining(PATH, data_set_name, num_classes, dropout, TRAINING_RATIO_TRAIN, TRAINING_RATIO_VAL)<br>\n",
    "training_obj.shuffle_data(training_obj.load_data(PATH,data_set_name),1000)<br>\n",
    "<br>\n",
    "#Model is Sketch_a_net<br>\n",
    "training_obj.model = training_obj.load_sketch_a_net_model(dropout, num_classes, training_obj.X_train.shape[1:])<br>\n",
    "training_obj.model.load_weights(PATH+name+'.h5')<br>\n",
    "##### The ComponentClassifierTraining object is first initialized with:\n",
    "    - PATH: working directory\n",
    "    - data_set_name: for loading training data set\n",
    "    - num_classes, dropout: CNN model parameters\n",
    "    - TRAINING_RATIO_TRAIN, TRAINING_RATIO_VAL: training parameters\n",
    "##### The shuffle_data is then called to shuffle the training data using a seed<br>The Sketch_A_Net model is then loaded<br>Then the model is trained with 100 epochs<br>Then the model weights are saved<br>Finally the trained model is stored in trained_model to be passed onto a ComponentClassifierPredict object\n",
    "#### If model weights have been trained before, the training and saving is not required, and the load_weights function has to be called instead."
   ]
  },
  {
   "cell_type": "code",
   "execution_count": 6,
   "metadata": {},
   "outputs": [
    {
     "name": "stdout",
     "output_type": "stream",
     "text": [
      "Component Classifier Training done... Time Elapsed : 10.900860786437988 seconds...\n"
     ]
    }
   ],
   "source": [
    "start = time.time() # Begin time measurement\n",
    "\n",
    "seed = 1000\n",
    "i = 1234\n",
    "training_obj = ComponentClassifierTraining(num_classes,TRAINING_RATIO_TRAIN, TRAINING_RATIO_VAL)\n",
    "training_obj.shuffle_data(training_obj.load_data(dataset_PATH,dataset_name),seed)\n",
    "\n",
    "#Model is Sketch_a_net\n",
    "training_obj.model = training_obj.load_sketch_a_net_model_7_layers(dropout, num_classes, training_obj.X_train.shape[1:])\n",
    "\n",
    "#training_obj.train(100,seed)\n",
    "#training_obj.save(name+'_'+str(i))\n",
    "training_obj.model.load_weights(dataset_PATH+model_name+'.h5')\n",
    "\n",
    "trained_model = training_obj.model\n",
    "\n",
    "end = time.time()#record time\n",
    "time_cost_time_list = store_time(3,time_cost_time_list,end-start)\n",
    "print_time_string(3,time_cost_string_list,time_cost_time_list)"
   ]
  },
  {
   "cell_type": "markdown",
   "metadata": {},
   "source": [
    "# ComponentClassifierPredict\n",
    "### The ComponentClassifierPredict object is first initialized with the entropy-based hyperparameters:\n",
    "    - min_percent_match\n",
    "    - min_confidence\n",
    "These parameters were explained in the Hyperparameters section above.\n",
    "### The predict_classes function produces the following:\n",
    "    - ext_class_index_list: ordered list of highest % match class predictions for each\n",
    "The entropy-based modifications are applied to the above (such that if any of the two criteria are not satisfied, the prediction is classified as random)\n",
    "    - ext_class_name_list: ordered list of corresponding names to ext_class_index_list\n",
    "    - ext_match_first_max_percent_list: ordered list of corresponding first-highest match percentage\n",
    "    - ext_match_second_max_percent_list: ordered list of corresponding second-highest match percentage"
   ]
  },
  {
   "cell_type": "code",
   "execution_count": 7,
   "metadata": {},
   "outputs": [
    {
     "name": "stdout",
     "output_type": "stream",
     "text": [
      "Component Classifier Predict done... Time Elapsed : 0.546210527420044 seconds...\n"
     ]
    }
   ],
   "source": [
    "start = time.time() # Begin time measurement\n",
    "\n",
    "prediction_obj = ComponentClassifierPredict(min_percent_match, min_confidence)\n",
    "\n",
    "ext_class_index_list, ext_class_name_list, \\\n",
    "ext_match_first_max_percent_list, \\\n",
    "ext_match_second_max_percent_list = prediction_obj.predict_classes(ext_images_list,trained_model)\n",
    "\n",
    "end = time.time()#record time\n",
    "time_cost_time_list = store_time(4,time_cost_time_list,end-start)\n",
    "print_time_string(4,time_cost_string_list,time_cost_time_list)"
   ]
  },
  {
   "cell_type": "markdown",
   "metadata": {},
   "source": [
    "# Printing Results\n",
    "#### Results are plotted on the original image using:\n",
    "    - image: for background\n",
    "    - model_name: for saving\n",
    "    - ext_data_list: list of x, y, w, h coordinates for each bounding box\n",
    "    - ext_class_index_list: list of predicted class indices\n",
    "    - ext_class_name_list: list of corresponding class names per predicted index\n",
    "    - ground_truth_index_list: list of ground truth class indices (currently set as the predicted classes.)*\n",
    "##### Each bounding box is labelled with two items separated by a colon:\n",
    "    - First: index of that object in the full list.\n",
    "    - Second: predicted class name of that object.\n",
    "##### If the predicted class matches with the ground truth class, <br> then the predicted label is coloured green, otherwise it is red. <br> * For this example, the ground truth labels were set as the predicted classes, so all labels are green."
   ]
  },
  {
   "cell_type": "code",
   "execution_count": 8,
   "metadata": {},
   "outputs": [
    {
     "data": {
      "image/png": "[encoded data removed]",
      "text/plain": [
       "<matplotlib.figure.Figure at 0x2564b53ba20>"
      ]
     },
     "metadata": {},
     "output_type": "display_data"
    },
    {
     "name": "stdout",
     "output_type": "stream",
     "text": [
      "Printing Results done... Time Elapsed : 4.4122138023376465 seconds...\n"
     ]
    }
   ],
   "source": [
    "start = time.time() # Begin time measurement\n",
    "\n",
    "ground_truth_index_list = ext_class_index_list # set all answers as correct answers for now\n",
    "plot_model_results_and_save(image,model_name, ext_data_list, ext_class_index_list, ext_class_name_list, ground_truth_index_list)\n",
    "\n",
    "end = time.time()#record time\n",
    "time_cost_time_list = store_time(5,time_cost_time_list,end-start)\n",
    "print_time_string(5,time_cost_string_list,time_cost_time_list)"
   ]
  },
  {
   "cell_type": "markdown",
   "metadata": {},
   "source": [
    "# ExtractionLabelling\n",
    "#### The ExtractionLabelling class is used to label the problem image with ground truths in the form of x, y, w, h, c <br>where x, y, w, h are the coordinates of the bounding box, and c is the class of the object in the box.\n",
    "#### The class is an interactive program where the user will be asked to verify the correctness <br> of the bounding box regions and classes predicted by the current best segmentation + classification algorithm.\n",
    "##### The class is initialized using:\n",
    "    - PATH: working directory\n",
    "    - ext_images_list: list of extraction images\n",
    "    - ext_data_list: list of extraction image coordinates (x, y, w, h)\n",
    "    - ext_class_index_list: list of predicted class indices (c)\n",
    "    - ext_class_name_list: list of predicted class names\n",
    "    - num_classes, img_rows, img_cols: selected CNN model parameters\n",
    "##### The define_model function is then called to load the model (from the trained_model variable). <br> Then the select_good_bounding_boxes function is called to allow the user to verify the bounding boxes and predicted classes. <br> Finally, after all the objects have been segmented and classified and saved in a text file, the data is plotted on the original image.\n",
    "##### The process of the interactive program is described in the diagram below:\n",
    "<img src=\"https://justinsj.weebly.com/uploads/6/4/9/2/64923303/extraction-labelling-flowchart_orig.jpg\" alt=\"Drawing\" style=\"width: 800px;\"/>"
   ]
  },
  {
   "cell_type": "code",
   "execution_count": 9,
   "metadata": {},
   "outputs": [
    {
     "name": "stdout",
     "output_type": "stream",
     "text": [
      "Acquiring and Printing Ground Truth Data done... Time Elapsed : 0.0015490055084228516 seconds...\n"
     ]
    }
   ],
   "source": [
    "start = time.time() # Begin time measurement\n",
    "\"\"\"\n",
    "labelling_obj = ExtractionLabelling(ext_images_list, ext_data_list,ext_class_index_list, ext_class_name_list, \n",
    "                          num_classes, img_rows, img_cols)\n",
    "\n",
    "labelling_obj.define_model(trained_model)\n",
    "\n",
    "### Long procedure\n",
    "#labelling_obj.select_good_bounding_boxes(image, dataset_PATH,\"easy_\" + str(image_index))\n",
    "labelling_obj.plot_ground_truths(image, dataset_PATH,\"easy_\" + str(image_index))\n",
    "\"\"\"\n",
    "end = time.time()#record time\n",
    "time_cost_time_list = store_time(6,time_cost_time_list,end-start)\n",
    "print_time_string(6,time_cost_string_list,time_cost_time_list)"
   ]
  },
  {
   "cell_type": "markdown",
   "metadata": {
    "collapsed": true
   },
   "source": [
    "# Active Learning<br>Data Concatenation & Cleaning\n",
    "#### A dataset by name is added into the training dataset for improvement in accuracy"
   ]
  },
  {
   "cell_type": "code",
   "execution_count": 10,
   "metadata": {},
   "outputs": [
    {
     "name": "stdout",
     "output_type": "stream",
     "text": [
      "Data Concatenation & Cleaning done... Time Elapsed : 0.0 seconds...\n"
     ]
    }
   ],
   "source": [
    "start = time.time() # Begin time measurement\n",
    "\"\"\"\n",
    "dataset_name_1 = \"Training_Samples_64_classes_100x100_all_cleaned_29724\" # base training images\n",
    "dataset_name_2 = \"Training_Samples_64_classes_100x100_all_cleaned_13291\" # problem ground truth images\n",
    "dataset_name_list = [dataset_name_1, dataset_name_2]\n",
    "\n",
    "### Long procedure\n",
    "cleaned_datasets_list = labelling_obj.clean_datasets(dataset_PATH,dataset_name_list)\n",
    "final_dataset_name = labelling_obj.concatenate_datasets(dataset_PATH, cleaned_datasets_list, start, end) #**kwargs: suffix, exclude\n",
    "\"\"\"\n",
    "\n",
    "end = time.time()#record time\n",
    "time_cost_time_list = store_time(7,time_cost_time_list,end-start)\n",
    "print_time_string(7,time_cost_string_list,time_cost_time_list)"
   ]
  },
  {
   "cell_type": "markdown",
   "metadata": {},
   "source": [
    "# Data Control, Count, & Training from Multiple Files"
   ]
  },
  {
   "cell_type": "code",
   "execution_count": 11,
   "metadata": {},
   "outputs": [
    {
     "name": "stdout",
     "output_type": "stream",
     "text": [
      "Data Control, Counting, & Training from Multiple Files done... Time Elapsed : 0.0 seconds...\n"
     ]
    }
   ],
   "source": [
    "start = time.time() # Begin time measurement\n",
    "\"\"\"\n",
    "seed = 1000\n",
    "\n",
    "training_obj = ComponentClassifierTraining(num_classes, TRAINING_RATIO_TRAIN, TRAINING_RATIO_VAL)\n",
    "training_obj.model = training_obj.load_sketch_a_net_model(dropout, num_classes,(100,100,1))\n",
    "\n",
    "new_dataset_name = training_obj.control_dataset(dataset_PATH, dataset_name_list,num_classes,600)\n",
    "data_count_list = training_obj.count_dataset(dataset_PATH, [new_dataset_name],num_classes) \n",
    "\n",
    "training_obj.train_from_multiple_files(1,seed,dataset_PATH,dataset_name_list,verbose = 1) ### Long procedure\n",
    "weights_name = \"Training_Samples_64_classes_100x100_all_cleaned_updated_29724+13291\"\n",
    "training_obj.save(dataset_PATH+weights_name)\n",
    "\n",
    "trained_model = training_obj.model\n",
    "\"\"\"\n",
    "end = time.time()#record time\n",
    "time_cost_time_list = store_time(8,time_cost_time_list,end-start)\n",
    "print_time_string(8,time_cost_string_list,time_cost_time_list)"
   ]
  },
  {
   "cell_type": "markdown",
   "metadata": {},
   "source": [
    "# TestingClass"
   ]
  },
  {
   "cell_type": "code",
   "execution_count": 12,
   "metadata": {},
   "outputs": [
    {
     "name": "stdout",
     "output_type": "stream",
     "text": [
      "Testing done... Time Elapsed : 0.0 seconds...\n"
     ]
    }
   ],
   "source": [
    "start = time.time() # Begin time measurement\n",
    "\"\"\"\n",
    "seed = 1000\n",
    "\n",
    "weights_name = new_dataset_name\n",
    "#weights_name = \"Training_Samples_64_classes_100x100_all_cleaned_updated_29739+7500(0-350)\"\n",
    "#weights_name = dataset_name\n",
    "#dataset_name_1 = \"Training_Samples_64_classes_100x100_all_cleaned_updated_29739\"\n",
    "#dataset_name_2 = \"Training_Samples_64_classes_100x100_all_cleaned_updated_7500_0-350\"\n",
    "dataset_name_list = [new_dataset_name]\n",
    "\n",
    "### Long procedure\n",
    "testing_obj = TestingClass(dataset_PATH, wanted_w, wanted_h, export_w, export_h, max_piece_percent)\n",
    "# Slower does testing with as little memory at all times as possible\n",
    "ground_truth_list, prediction_list = testing_obj.test_classifier_multiple_slow(dataset_PATH, dataset_name_list,\n",
    "                                     num_classes,dropout, \n",
    "                                     TRAINING_RATIO_TRAIN, TRAINING_RATIO_VAL,\n",
    "                                     200,seed,350,706, weights_name = weights_name)\n",
    "\"\"\"\n",
    "end = time.time()#record time\n",
    "time_cost_time_list = store_time(9,time_cost_time_list,end-start)\n",
    "print_time_string(9,time_cost_string_list,time_cost_time_list)"
   ]
  },
  {
   "cell_type": "markdown",
   "metadata": {},
   "source": [
    "# Print Confusion Matrix"
   ]
  },
  {
   "cell_type": "code",
   "execution_count": 13,
   "metadata": {},
   "outputs": [
    {
     "name": "stdout",
     "output_type": "stream",
     "text": [
      "Printing Confusion Matrix done... Time Elapsed : 0.0 seconds...\n"
     ]
    }
   ],
   "source": [
    "start = time.time() # Begin time measurement\n",
    "\"\"\"\n",
    "confusion_matrix_index = 1\n",
    "from data_analysis_data import ground_truth_list_1 as ground_truth_list\n",
    "from data_analysis_data import prediction_list_1 as prediction_list\n",
    "\n",
    "#Add base data for confusion matrix\n",
    "for i in range(64):\n",
    "    ground_truth_list.append(i)\n",
    "    prediction_list.append(i)\n",
    "    \n",
    "# Compute confusion matrix\n",
    "from sklearn.metrics import confusion_matrix\n",
    "cnf_matrix = confusion_matrix(ground_truth_list,prediction_list)\n",
    "\n",
    "# Plot non-normalized confusion matrix\n",
    "from helper_functions import plot_confusion_matrix\n",
    "from constants import target_names_all\n",
    "import matplotlib.pyplot as plt\n",
    "plot_confusion_matrix(cnf_matrix, classes=target_names_all,\n",
    "                      normalize=False,\n",
    "                      title='Confusion matrix', \n",
    "                      cmap=plt.cm.Blues,PATH=dataset_PATH, name=\"confusion_matrix_\"+str(confusion_matrix_index), verbose = False)\n",
    "\n",
    "from helper_functions import confusion_matrix_analysis\n",
    "dataset_PATH = \"C:/Users/JustinSanJuan/Desktop/HKUST/UROP Deep Learning Image-based Structural Analysis/Code/Python/Testing Folder/\"\n",
    "name = \"confusion_matrix_\"+str(confusion_matrix_index)+\"_analysis\"\n",
    "min_count = 5\n",
    "confusion_matrix_analysis(cnf_matrix, dataset_PATH, name, min_count, verbose = False) #Turn verbose on to show data analysis\n",
    "\n",
    "\"\"\"\n",
    "end = time.time()#record time\n",
    "time_cost_time_list = store_time(10,time_cost_time_list,end-start)\n",
    "print_time_string(10,time_cost_string_list,time_cost_time_list)"
   ]
  },
  {
   "cell_type": "markdown",
   "metadata": {
    "collapsed": true
   },
   "source": [
    "# Time Cost Analysis"
   ]
  },
  {
   "cell_type": "code",
   "execution_count": 14,
   "metadata": {},
   "outputs": [
    {
     "name": "stdout",
     "output_type": "stream",
     "text": [
      "Loading image : 1.6242139339447021\n",
      "Component Segmentation : 5.455939531326294\n",
      "Extraction Preprocessing : 7.0978429317474365\n",
      "Component Classifier Training : 10.900860786437988\n",
      "Component Classifier Predict : 0.546210527420044\n",
      "Printing Results : 4.4122138023376465\n",
      "Acquiring and Printing Ground Truth Data : 0.0015490055084228516\n",
      "Data Concatenation & Cleaning : 0.0\n",
      "Data Control, Counting, & Training from Multiple Files : 0.0\n",
      "Testing : 0.0\n",
      "Printing Confusion Matrix : 0.0\n",
      "\n"
     ]
    }
   ],
   "source": [
    "time_cost_string = ''\n",
    "for i in range(len(time_cost_string_list)):\n",
    "    time_cost_string += str(time_cost_string_list[i]) +' : ' + str(time_cost_time_list[i])+'\\n'\n",
    "print(time_cost_string)"
   ]
  },
  {
   "cell_type": "code",
   "execution_count": null,
   "metadata": {
    "collapsed": true
   },
   "outputs": [],
   "source": []
  },
  {
   "cell_type": "code",
   "execution_count": null,
   "metadata": {
    "collapsed": true
   },
   "outputs": [],
   "source": []
  },
  {
   "cell_type": "raw",
   "metadata": {
    "collapsed": true
   },
   "source": []
  }
 ],
 "metadata": {
  "kernelspec": {
   "display_name": "Python 3",
   "language": "python",
   "name": "python3"
  },
  "language_info": {
   "codemirror_mode": {
    "name": "ipython",
    "version": 3
   },
   "file_extension": ".py",
   "mimetype": "text/x-python",
   "name": "python",
   "nbconvert_exporter": "python",
   "pygments_lexer": "ipython3",
   "version": "3.5.0"
  }
 },
 "nbformat": 4,
 "nbformat_minor": 2
}
